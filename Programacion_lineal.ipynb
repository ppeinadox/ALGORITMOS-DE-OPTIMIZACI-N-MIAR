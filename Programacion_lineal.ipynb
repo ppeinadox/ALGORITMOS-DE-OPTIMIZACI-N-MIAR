{
  "nbformat": 4,
  "nbformat_minor": 0,
  "metadata": {
    "colab": {
      "provenance": [],
      "authorship_tag": "ABX9TyNyhF732Tmw8hrERD7nuX5C",
      "include_colab_link": true
    },
    "kernelspec": {
      "name": "python3",
      "display_name": "Python 3"
    },
    "language_info": {
      "name": "python"
    }
  },
  "cells": [
    {
      "cell_type": "markdown",
      "metadata": {
        "id": "view-in-github",
        "colab_type": "text"
      },
      "source": [
        "<a href=\"https://colab.research.google.com/github/ppeinadox/ALGORITMOS-DE-OPTIMIZACI-N-MIAR/blob/main/Programacion_lineal.ipynb\" target=\"_parent\"><img src=\"https://colab.research.google.com/assets/colab-badge.svg\" alt=\"Open In Colab\"/></a>"
      ]
    },
    {
      "cell_type": "code",
      "execution_count": null,
      "metadata": {
        "colab": {
          "base_uri": "https://localhost:8080/"
        },
        "id": "nTd-mpn5NasS",
        "outputId": "db9ad4b8-4d48-447f-844d-35ed3165293c"
      },
      "outputs": [
        {
          "output_type": "stream",
          "name": "stdout",
          "text": [
            "Requirement already satisfied: pulp in /usr/local/lib/python3.10/dist-packages (2.8.0)\n",
            "Requirement already satisfied: pandas in /usr/local/lib/python3.10/dist-packages (2.0.3)\n",
            "Requirement already satisfied: python-dateutil>=2.8.2 in /usr/local/lib/python3.10/dist-packages (from pandas) (2.8.2)\n",
            "Requirement already satisfied: pytz>=2020.1 in /usr/local/lib/python3.10/dist-packages (from pandas) (2023.4)\n",
            "Requirement already satisfied: tzdata>=2022.1 in /usr/local/lib/python3.10/dist-packages (from pandas) (2024.1)\n",
            "Requirement already satisfied: numpy>=1.21.0 in /usr/local/lib/python3.10/dist-packages (from pandas) (1.25.2)\n",
            "Requirement already satisfied: six>=1.5 in /usr/local/lib/python3.10/dist-packages (from python-dateutil>=2.8.2->pandas) (1.16.0)\n"
          ]
        }
      ],
      "source": [
        "!pip3 install pulp\n",
        "!pip3 install pandas"
      ]
    },
    {
      "cell_type": "code",
      "source": [
        "import pulp as p\n",
        "import pandas as pd"
      ],
      "metadata": {
        "id": "vKNYWGE3NuwP"
      },
      "execution_count": null,
      "outputs": []
    },
    {
      "cell_type": "code",
      "source": [
        "modelo = p.LpProblem(\"Problema_de_coste_fijo\", p.LpMinimize)"
      ],
      "metadata": {
        "colab": {
          "base_uri": "https://localhost:8080/"
        },
        "id": "fh7MSBCPNzV4",
        "outputId": "f9476bbc-db21-4be0-b5eb-d0df40b8c800"
      },
      "execution_count": null,
      "outputs": [
        {
          "output_type": "stream",
          "name": "stderr",
          "text": [
            "/usr/local/lib/python3.10/dist-packages/pulp/pulp.py:1316: UserWarning: Spaces are not permitted in the name. Converted to '_'\n",
            "  warnings.warn(\"Spaces are not permitted in the name. Converted to '_'\")\n"
          ]
        }
      ]
    },
    {
      "cell_type": "code",
      "source": [
        "#Creamos las variables de decisión\n",
        "# Al definir la categoría de la variable podemos usar LpInteger, LpContinuous o  LpBinary"
      ],
      "metadata": {
        "id": "EkYXU7xSOfqZ"
      },
      "execution_count": null,
      "outputs": []
    },
    {
      "cell_type": "code",
      "source": [
        "x1 = p.LpVariable(\"Minutos con MaBell\", lowBound=0, cat= p.LpInteger)\n",
        "x2 = p.LpVariable(\"Minutos con PaBell\", lowBound=0, cat= p.LpInteger)\n",
        "x3 = p.LpVariable(\"Minutos con BabyBell\", lowBound=0, cat= p.LpInteger)\n",
        "y1 = p.LpVariable(\"y1\", lowBound=0, cat= p.LpBinary)\n",
        "y2 = p.LpVariable(\"y2\", lowBound=0, cat= p.LpBinary)\n",
        "y3 = p.LpVariable(\"y3\", lowBound=0, cat= p.LpBinary)"
      ],
      "metadata": {
        "id": "AZ1akvL_O8Yt"
      },
      "execution_count": null,
      "outputs": []
    },
    {
      "cell_type": "code",
      "source": [
        "# Definimos la función objetivo con esta connotación"
      ],
      "metadata": {
        "id": "u2SpEPvOQI4z"
      },
      "execution_count": null,
      "outputs": []
    },
    {
      "cell_type": "code",
      "source": [
        "modelo += 0.25 * x1 + 0.21 * x2 + 0.22 * x3 + 16 * y1 + 25 * y2 + 18 * y3, 'Función Objetivo'"
      ],
      "metadata": {
        "id": "IbUdZJxoQPjD"
      },
      "execution_count": null,
      "outputs": []
    },
    {
      "cell_type": "code",
      "source": [
        "# Definimos las restricciones"
      ],
      "metadata": {
        "id": "HpbPM0UJR_FP"
      },
      "execution_count": null,
      "outputs": []
    },
    {
      "cell_type": "code",
      "source": [
        "modelo += x1 + x2 + x3 == 200, 'Restriccion 1'\n",
        "modelo += x1 <= 200 * y1, 'Restriccion 2'\n",
        "modelo += x2 <= 200 * y2, 'Restriccion 3'\n",
        "modelo += x3 <= 200 * y3, 'Restriccion 4'"
      ],
      "metadata": {
        "id": "g1Kdd5nsSCS3"
      },
      "execution_count": null,
      "outputs": []
    },
    {
      "cell_type": "code",
      "source": [
        "modelo"
      ],
      "metadata": {
        "colab": {
          "base_uri": "https://localhost:8080/"
        },
        "id": "-z4T7qk1Sc7V",
        "outputId": "16298be8-b671-4471-d2fd-ad613f8540bf"
      },
      "execution_count": null,
      "outputs": [
        {
          "output_type": "execute_result",
          "data": {
            "text/plain": [
              "Problema_de_coste_fijo:\n",
              "MINIMIZE\n",
              "0.22*Minutos_con_BabyBell + 0.25*Minutos_con_MaBell + 0.21*Minutos_con_PaBell + 16*y1 + 25*y2 + 18*y3 + 0.0\n",
              "SUBJECT TO\n",
              "Restriccion_1: Minutos_con_BabyBell + Minutos_con_MaBell + Minutos_con_PaBell\n",
              " = 200\n",
              "\n",
              "Restriccion_2: Minutos_con_MaBell - 200 y1 <= 0\n",
              "\n",
              "Restriccion_3: Minutos_con_PaBell - 200 y2 <= 0\n",
              "\n",
              "Restriccion_4: Minutos_con_BabyBell - 200 y3 <= 0\n",
              "\n",
              "VARIABLES\n",
              "0 <= Minutos_con_BabyBell Integer\n",
              "0 <= Minutos_con_MaBell Integer\n",
              "0 <= Minutos_con_PaBell Integer\n",
              "0 <= y1 <= 1 Integer\n",
              "0 <= y2 <= 1 Integer\n",
              "0 <= y3 <= 1 Integer"
            ]
          },
          "metadata": {},
          "execution_count": 19
        }
      ]
    },
    {
      "cell_type": "code",
      "source": [
        "modelo.solve()"
      ],
      "metadata": {
        "colab": {
          "base_uri": "https://localhost:8080/"
        },
        "id": "LuQWEAwrSpqZ",
        "outputId": "c4582ccf-74b3-4e6b-d8a8-051dfce3dff1"
      },
      "execution_count": null,
      "outputs": [
        {
          "output_type": "execute_result",
          "data": {
            "text/plain": [
              "1"
            ]
          },
          "metadata": {},
          "execution_count": 20
        }
      ]
    },
    {
      "cell_type": "code",
      "source": [
        "# No me da la solución directamente, si no que hay que escribir los valores"
      ],
      "metadata": {
        "id": "X12TRRX9SzZ5"
      },
      "execution_count": null,
      "outputs": []
    },
    {
      "cell_type": "code",
      "source": [
        "print(\"Numero de minutos con MaBell: \", x1.varValue)\n",
        "print(\"Numero de minutos con PaBell\", x2.varValue)\n",
        "print(\"Numero de minutos con BabyBell\", x3.varValue)\n",
        "print(\"Numero de y1: \", y1.varValue)\n",
        "print(\"Numero de y2: \", y2.varValue)\n",
        "print(\"Numero de y3: \", y3.varValue)\n",
        "print(\"Costo total: \", p.value(modelo.objective))"
      ],
      "metadata": {
        "colab": {
          "base_uri": "https://localhost:8080/"
        },
        "id": "eKVCYvRyTjPq",
        "outputId": "8f671314-738f-42e6-85a9-218c1c5f260a"
      },
      "execution_count": null,
      "outputs": [
        {
          "output_type": "stream",
          "name": "stdout",
          "text": [
            "Numero de minutos con MaBell:  0.0\n",
            "Numero de minutos con PaBell 0.0\n",
            "Numero de minutos con BabyBell 200.0\n",
            "Numero de y1:  0.0\n",
            "Numero de y2:  0.0\n",
            "Numero de y3:  1.0\n",
            "Costo total:  62.0\n"
          ]
        }
      ]
    }
  ]
}
