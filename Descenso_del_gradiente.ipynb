{
  "nbformat": 4,
  "nbformat_minor": 0,
  "metadata": {
    "colab": {
      "provenance": [],
      "authorship_tag": "ABX9TyPwEay8EeARDKHQs0b5aXyP",
      "include_colab_link": true
    },
    "kernelspec": {
      "name": "python3",
      "display_name": "Python 3"
    },
    "language_info": {
      "name": "python"
    }
  },
  "cells": [
    {
      "cell_type": "markdown",
      "metadata": {
        "id": "view-in-github",
        "colab_type": "text"
      },
      "source": [
        "<a href=\"https://colab.research.google.com/github/ppeinadox/ALGORITMOS-DE-OPTIMIZACI-N-MIAR/blob/main/Descenso_del_gradiente.ipynb\" target=\"_parent\"><img src=\"https://colab.research.google.com/assets/colab-badge.svg\" alt=\"Open In Colab\"/></a>"
      ]
    },
    {
      "cell_type": "code",
      "execution_count": 1,
      "metadata": {
        "id": "TMBGLXLzcO6G"
      },
      "outputs": [],
      "source": [
        "# importar algunas librerías\n",
        "\n",
        "import numpy as np\n",
        "from matplotlib import pyplot as plt\n",
        "from numpy import linspace\n",
        "import random"
      ]
    },
    {
      "cell_type": "code",
      "source": [
        "X = linspace(-7, 9, 100)\n",
        "Y = X**2 - 2*X - 1\n",
        "plt.plot(X, Y, 'g-.', 1, -2, 'ro')\n",
        "plt.show()"
      ],
      "metadata": {
        "colab": {
          "base_uri": "https://localhost:8080/",
          "height": 430
        },
        "id": "N9YRj-Bqm662",
        "outputId": "a85dfb7d-2c28-47ec-e745-264e4606bc00"
      },
      "execution_count": 2,
      "outputs": [
        {
          "output_type": "display_data",
          "data": {
            "text/plain": [
              "<Figure size 640x480 with 1 Axes>"
            ],
            "image/png": "[encoded data removed]"
          },
          "metadata": {}
        }
      ]
    },
    {
      "cell_type": "code",
      "source": [
        "# Método del gradiente\n",
        "x_initial = 100*np.random.rand() # para generar un numero aleatorio por donde empiezo\n",
        "alpha = 0.1 # Learning rate, normalmente se inicializa en 0.1\n",
        "n_ite = 50 #numero de iteraciones que queremos hacer\n",
        "x_i = x_initial\n",
        "print(\"x_initial = %.4f \" % x_initial ) # el %.4f indica lo que quiero imprimir,\n",
        "# f de flotante, 4 de cuatro decimales.\n",
        "grad_vector = [] # Se alimentará de los valores de los gradientes, que tenderá a 0 cada vez\n",
        "for i in range(n_ite): # Para hacer el bucle de iteraciones\n",
        "  print(\"\\n Iteration number = \", i) # Imprimimos el numero de iteración\n",
        "  grad = 2*x_i - 2 # Gradiente, en este caso la derivada de la función\n",
        "  grad_vector.append(grad) # Añadir en la lista vacía el gradiente\n",
        "  x_i = x_i - alpha*grad # Actualización del nuevo x_i\n",
        "  print(\"x_i = %.4f \" % x_i, \" grad = %4f \" % grad) # Imprimir el nuevo x_i y el gradiente para ir obseervando cada iteración"
      ],
      "metadata": {
        "colab": {
          "base_uri": "https://localhost:8080/"
        },
        "id": "foPq3l38nWWW",
        "outputId": "a721cb33-fff2-4701-8797-262d25a0ad23"
      },
      "execution_count": 4,
      "outputs": [
        {
          "output_type": "stream",
          "name": "stdout",
          "text": [
            "x_initial = 27.3890 \n",
            "\n",
            " Iteration number =  0\n",
            "x_i = 22.1112   grad = 52.778005 \n",
            "\n",
            " Iteration number =  1\n",
            "x_i = 17.8890   grad = 42.222404 \n",
            "\n",
            " Iteration number =  2\n",
            "x_i = 14.5112   grad = 33.777923 \n",
            "\n",
            " Iteration number =  3\n",
            "x_i = 11.8089   grad = 27.022338 \n",
            "\n",
            " Iteration number =  4\n",
            "x_i = 9.6471   grad = 21.617871 \n",
            "\n",
            " Iteration number =  5\n",
            "x_i = 7.9177   grad = 17.294297 \n",
            "\n",
            " Iteration number =  6\n",
            "x_i = 6.5342   grad = 13.835437 \n",
            "\n",
            " Iteration number =  7\n",
            "x_i = 5.4273   grad = 11.068350 \n",
            "\n",
            " Iteration number =  8\n",
            "x_i = 4.5419   grad = 8.854680 \n",
            "\n",
            " Iteration number =  9\n",
            "x_i = 3.8335   grad = 7.083744 \n",
            "\n",
            " Iteration number =  10\n",
            "x_i = 3.2668   grad = 5.666995 \n",
            "\n",
            " Iteration number =  11\n",
            "x_i = 2.8134   grad = 4.533596 \n",
            "\n",
            " Iteration number =  12\n",
            "x_i = 2.4508   grad = 3.626877 \n",
            "\n",
            " Iteration number =  13\n",
            "x_i = 2.1606   grad = 2.901501 \n",
            "\n",
            " Iteration number =  14\n",
            "x_i = 1.9285   grad = 2.321201 \n",
            "\n",
            " Iteration number =  15\n",
            "x_i = 1.7428   grad = 1.856961 \n",
            "\n",
            " Iteration number =  16\n",
            "x_i = 1.5942   grad = 1.485569 \n",
            "\n",
            " Iteration number =  17\n",
            "x_i = 1.4754   grad = 1.188455 \n",
            "\n",
            " Iteration number =  18\n",
            "x_i = 1.3803   grad = 0.950764 \n",
            "\n",
            " Iteration number =  19\n",
            "x_i = 1.3042   grad = 0.760611 \n",
            "\n",
            " Iteration number =  20\n",
            "x_i = 1.2434   grad = 0.608489 \n",
            "\n",
            " Iteration number =  21\n",
            "x_i = 1.1947   grad = 0.486791 \n",
            "\n",
            " Iteration number =  22\n",
            "x_i = 1.1558   grad = 0.389433 \n",
            "\n",
            " Iteration number =  23\n",
            "x_i = 1.1246   grad = 0.311546 \n",
            "\n",
            " Iteration number =  24\n",
            "x_i = 1.0997   grad = 0.249237 \n",
            "\n",
            " Iteration number =  25\n",
            "x_i = 1.0798   grad = 0.199390 \n",
            "\n",
            " Iteration number =  26\n",
            "x_i = 1.0638   grad = 0.159512 \n",
            "\n",
            " Iteration number =  27\n",
            "x_i = 1.0510   grad = 0.127609 \n",
            "\n",
            " Iteration number =  28\n",
            "x_i = 1.0408   grad = 0.102088 \n",
            "\n",
            " Iteration number =  29\n",
            "x_i = 1.0327   grad = 0.081670 \n",
            "\n",
            " Iteration number =  30\n",
            "x_i = 1.0261   grad = 0.065336 \n",
            "\n",
            " Iteration number =  31\n",
            "x_i = 1.0209   grad = 0.052269 \n",
            "\n",
            " Iteration number =  32\n",
            "x_i = 1.0167   grad = 0.041815 \n",
            "\n",
            " Iteration number =  33\n",
            "x_i = 1.0134   grad = 0.033452 \n",
            "\n",
            " Iteration number =  34\n",
            "x_i = 1.0107   grad = 0.026762 \n",
            "\n",
            " Iteration number =  35\n",
            "x_i = 1.0086   grad = 0.021409 \n",
            "\n",
            " Iteration number =  36\n",
            "x_i = 1.0069   grad = 0.017127 \n",
            "\n",
            " Iteration number =  37\n",
            "x_i = 1.0055   grad = 0.013702 \n",
            "\n",
            " Iteration number =  38\n",
            "x_i = 1.0044   grad = 0.010962 \n",
            "\n",
            " Iteration number =  39\n",
            "x_i = 1.0035   grad = 0.008769 \n",
            "\n",
            " Iteration number =  40\n",
            "x_i = 1.0028   grad = 0.007015 \n",
            "\n",
            " Iteration number =  41\n",
            "x_i = 1.0022   grad = 0.005612 \n",
            "\n",
            " Iteration number =  42\n",
            "x_i = 1.0018   grad = 0.004490 \n",
            "\n",
            " Iteration number =  43\n",
            "x_i = 1.0014   grad = 0.003592 \n",
            "\n",
            " Iteration number =  44\n",
            "x_i = 1.0011   grad = 0.002874 \n",
            "\n",
            " Iteration number =  45\n",
            "x_i = 1.0009   grad = 0.002299 \n",
            "\n",
            " Iteration number =  46\n",
            "x_i = 1.0007   grad = 0.001839 \n",
            "\n",
            " Iteration number =  47\n",
            "x_i = 1.0006   grad = 0.001471 \n",
            "\n",
            " Iteration number =  48\n",
            "x_i = 1.0005   grad = 0.001177 \n",
            "\n",
            " Iteration number =  49\n",
            "x_i = 1.0004   grad = 0.000942 \n"
          ]
        }
      ]
    },
    {
      "cell_type": "code",
      "source": [
        "plt.plot(grad_vector) # Graficar el contenido de la lista. Podemos observar como el gradiente va tendiendo a 0.\n",
        "plt.show()"
      ],
      "metadata": {
        "colab": {
          "base_uri": "https://localhost:8080/",
          "height": 430
        },
        "id": "qOb96RL-qNdi",
        "outputId": "7ab15e4e-71d0-4840-a394-ad578a7ec540"
      },
      "execution_count": 5,
      "outputs": [
        {
          "output_type": "display_data",
          "data": {
            "text/plain": [
              "<Figure size 640x480 with 1 Axes>"
            ],
            "image/png": "[encoded data removed]"
          },
          "metadata": {}
        }
      ]
    }
  ]
}